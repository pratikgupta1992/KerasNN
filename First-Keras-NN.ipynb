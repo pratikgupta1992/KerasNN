{
 "cells": [
  {
   "cell_type": "code",
   "execution_count": 7,
   "metadata": {},
   "outputs": [],
   "source": [
    "import keras"
   ]
  },
  {
   "cell_type": "code",
   "execution_count": null,
   "metadata": {},
   "outputs": [],
   "source": [
    "keras.__version__"
   ]
  },
  {
   "cell_type": "code",
   "execution_count": 1,
   "metadata": {},
   "outputs": [
    {
     "name": "stderr",
     "output_type": "stream",
     "text": [
      "Using TensorFlow backend.\n"
     ]
    }
   ],
   "source": [
    "from keras.datasets import mnist"
   ]
  },
  {
   "cell_type": "code",
   "execution_count": 2,
   "metadata": {},
   "outputs": [],
   "source": [
    "(train_images, train_labels), (test_images, test_labels) = mnist.load_data()"
   ]
  },
  {
   "cell_type": "code",
   "execution_count": 3,
   "metadata": {},
   "outputs": [
    {
     "data": {
      "text/plain": [
       "(60000, 28, 28)"
      ]
     },
     "execution_count": 3,
     "metadata": {},
     "output_type": "execute_result"
    }
   ],
   "source": [
    "train_images.shape"
   ]
  },
  {
   "cell_type": "code",
   "execution_count": 4,
   "metadata": {},
   "outputs": [
    {
     "data": {
      "text/plain": [
       "60000"
      ]
     },
     "execution_count": 4,
     "metadata": {},
     "output_type": "execute_result"
    }
   ],
   "source": [
    "len(train_labels)"
   ]
  },
  {
   "cell_type": "code",
   "execution_count": 5,
   "metadata": {},
   "outputs": [
    {
     "data": {
      "text/plain": [
       "(10000, 28, 28)"
      ]
     },
     "execution_count": 5,
     "metadata": {},
     "output_type": "execute_result"
    }
   ],
   "source": [
    "test_images.shape"
   ]
  },
  {
   "cell_type": "code",
   "execution_count": 6,
   "metadata": {},
   "outputs": [
    {
     "data": {
      "text/plain": [
       "10000"
      ]
     },
     "execution_count": 6,
     "metadata": {},
     "output_type": "execute_result"
    }
   ],
   "source": [
    "len(test_images)"
   ]
  },
  {
   "cell_type": "code",
   "execution_count": 7,
   "metadata": {},
   "outputs": [],
   "source": [
    "from keras import models\n",
    "from keras import layers\n",
    "from keras.utils import to_categorical"
   ]
  },
  {
   "cell_type": "code",
   "execution_count": 8,
   "metadata": {},
   "outputs": [],
   "source": [
    "network = models.Sequential()\n",
    "network.add(layers.Dense(512, activation='relu', input_shape=(28*28,)))\n",
    "network.add(layers.Dense(10, activation='softmax'))"
   ]
  },
  {
   "cell_type": "code",
   "execution_count": 9,
   "metadata": {},
   "outputs": [],
   "source": [
    "network.compile(optimizer='adam', loss='categorical_crossentropy', metrics=['accuracy'])"
   ]
  },
  {
   "cell_type": "code",
   "execution_count": 10,
   "metadata": {},
   "outputs": [],
   "source": [
    "train_images = train_images.reshape((60000, 28*28))\n",
    "train_images = train_images.astype('float32')/255\n",
    "test_images = test_images.reshape((10000, 28*28))\n",
    "test_images = test_images.astype('float32')/255"
   ]
  },
  {
   "cell_type": "code",
   "execution_count": 11,
   "metadata": {},
   "outputs": [],
   "source": [
    "train_labels = to_categorical(train_labels)\n",
    "test_labels = to_categorical(test_labels)"
   ]
  },
  {
   "cell_type": "code",
   "execution_count": 12,
   "metadata": {},
   "outputs": [
    {
     "name": "stdout",
     "output_type": "stream",
     "text": [
      "Epoch 1/100\n",
      "60000/60000 [==============================] - 3s 43us/step - loss: 0.2679 - acc: 0.9248\n",
      "Epoch 2/100\n",
      "60000/60000 [==============================] - 2s 28us/step - loss: 0.1099 - acc: 0.9680\n",
      "Epoch 3/100\n",
      "60000/60000 [==============================] - 2s 28us/step - loss: 0.0702 - acc: 0.9795\n",
      "Epoch 4/100\n",
      "60000/60000 [==============================] - 2s 28us/step - loss: 0.0511 - acc: 0.9846\n",
      "Epoch 5/100\n",
      "60000/60000 [==============================] - 2s 28us/step - loss: 0.0376 - acc: 0.9889\n",
      "Epoch 6/100\n",
      "60000/60000 [==============================] - 2s 28us/step - loss: 0.0281 - acc: 0.9920\n",
      "Epoch 7/100\n",
      "60000/60000 [==============================] - 2s 27us/step - loss: 0.0210 - acc: 0.9940\n",
      "Epoch 8/100\n",
      "60000/60000 [==============================] - 2s 28us/step - loss: 0.0153 - acc: 0.9963\n",
      "Epoch 9/100\n",
      "60000/60000 [==============================] - 2s 27us/step - loss: 0.0131 - acc: 0.9967\n",
      "Epoch 10/100\n",
      "60000/60000 [==============================] - 2s 28us/step - loss: 0.0096 - acc: 0.9976\n",
      "Epoch 11/100\n",
      "60000/60000 [==============================] - 2s 28us/step - loss: 0.0070 - acc: 0.9986\n",
      "Epoch 12/100\n",
      "60000/60000 [==============================] - 2s 28us/step - loss: 0.0068 - acc: 0.9985\n",
      "Epoch 13/100\n",
      "60000/60000 [==============================] - 2s 27us/step - loss: 0.0084 - acc: 0.9977\n",
      "Epoch 14/100\n",
      "60000/60000 [==============================] - 2s 28us/step - loss: 0.0049 - acc: 0.9989\n",
      "Epoch 15/100\n",
      "60000/60000 [==============================] - 2s 28us/step - loss: 0.0040 - acc: 0.9990\n",
      "Epoch 16/100\n",
      "60000/60000 [==============================] - 2s 28us/step - loss: 0.0056 - acc: 0.9986\n",
      "Epoch 17/100\n",
      "60000/60000 [==============================] - 2s 28us/step - loss: 0.0066 - acc: 0.9978\n",
      "Epoch 18/100\n",
      "60000/60000 [==============================] - 2s 27us/step - loss: 0.0039 - acc: 0.9990\n",
      "Epoch 19/100\n",
      "60000/60000 [==============================] - 2s 28us/step - loss: 0.0036 - acc: 0.9990\n",
      "Epoch 20/100\n",
      "60000/60000 [==============================] - 2s 29us/step - loss: 0.0022 - acc: 0.9996\n",
      "Epoch 21/100\n",
      "60000/60000 [==============================] - 2s 28us/step - loss: 4.0403e-04 - acc: 1.0000\n",
      "Epoch 22/100\n",
      "60000/60000 [==============================] - 2s 28us/step - loss: 2.1592e-04 - acc: 1.0000\n",
      "Epoch 23/100\n",
      "60000/60000 [==============================] - 2s 28us/step - loss: 1.6566e-04 - acc: 1.0000\n",
      "Epoch 24/100\n",
      "60000/60000 [==============================] - 2s 28us/step - loss: 1.3615e-04 - acc: 1.0000\n",
      "Epoch 25/100\n",
      "60000/60000 [==============================] - 2s 27us/step - loss: 1.1819e-04 - acc: 1.0000\n",
      "Epoch 26/100\n",
      "60000/60000 [==============================] - 2s 27us/step - loss: 1.0130e-04 - acc: 1.0000\n",
      "Epoch 27/100\n",
      "60000/60000 [==============================] - 2s 28us/step - loss: 8.8067e-05 - acc: 1.0000\n",
      "Epoch 28/100\n",
      "60000/60000 [==============================] - 2s 28us/step - loss: 7.4979e-05 - acc: 1.0000\n",
      "Epoch 29/100\n",
      "60000/60000 [==============================] - 2s 28us/step - loss: 8.7878e-05 - acc: 1.0000\n",
      "Epoch 30/100\n",
      "60000/60000 [==============================] - 2s 28us/step - loss: 0.0250 - acc: 0.9924\n",
      "Epoch 31/100\n",
      "60000/60000 [==============================] - 2s 27us/step - loss: 0.0025 - acc: 0.9993\n",
      "Epoch 32/100\n",
      "60000/60000 [==============================] - 2s 28us/step - loss: 4.4785e-04 - acc: 1.0000\n",
      "Epoch 33/100\n",
      "60000/60000 [==============================] - 2s 27us/step - loss: 1.6386e-04 - acc: 1.0000\n",
      "Epoch 34/100\n",
      "60000/60000 [==============================] - 2s 28us/step - loss: 1.2207e-04 - acc: 1.0000\n",
      "Epoch 35/100\n",
      "60000/60000 [==============================] - 2s 28us/step - loss: 9.9898e-05 - acc: 1.0000\n",
      "Epoch 36/100\n",
      "60000/60000 [==============================] - 2s 28us/step - loss: 8.3425e-05 - acc: 1.0000\n",
      "Epoch 37/100\n",
      "60000/60000 [==============================] - 2s 28us/step - loss: 7.0784e-05 - acc: 1.0000\n",
      "Epoch 38/100\n",
      "60000/60000 [==============================] - 2s 27us/step - loss: 6.0204e-05 - acc: 1.0000\n",
      "Epoch 39/100\n",
      "60000/60000 [==============================] - 2s 27us/step - loss: 5.1524e-05 - acc: 1.0000\n",
      "Epoch 40/100\n",
      "60000/60000 [==============================] - 2s 28us/step - loss: 4.3813e-05 - acc: 1.0000\n",
      "Epoch 41/100\n",
      "60000/60000 [==============================] - 2s 27us/step - loss: 3.7400e-05 - acc: 1.0000\n",
      "Epoch 42/100\n",
      "60000/60000 [==============================] - 2s 28us/step - loss: 3.2535e-05 - acc: 1.0000\n",
      "Epoch 43/100\n",
      "60000/60000 [==============================] - 2s 27us/step - loss: 2.8089e-05 - acc: 1.0000\n",
      "Epoch 44/100\n",
      "60000/60000 [==============================] - 2s 28us/step - loss: 2.4259e-05 - acc: 1.0000\n",
      "Epoch 45/100\n",
      "60000/60000 [==============================] - 2s 28us/step - loss: 0.0086 - acc: 0.9976\n",
      "Epoch 46/100\n",
      "60000/60000 [==============================] - 2s 28us/step - loss: 0.0143 - acc: 0.9953\n",
      "Epoch 47/100\n",
      "60000/60000 [==============================] - 2s 28us/step - loss: 0.0020 - acc: 0.9994\n",
      "Epoch 48/100\n",
      "60000/60000 [==============================] - 2s 28us/step - loss: 3.2049e-04 - acc: 1.0000\n",
      "Epoch 49/100\n",
      "60000/60000 [==============================] - 2s 28us/step - loss: 1.1669e-04 - acc: 1.0000\n",
      "Epoch 50/100\n",
      "60000/60000 [==============================] - 2s 28us/step - loss: 8.4300e-05 - acc: 1.0000\n",
      "Epoch 51/100\n",
      "60000/60000 [==============================] - 2s 28us/step - loss: 6.8984e-05 - acc: 1.0000\n",
      "Epoch 52/100\n",
      "60000/60000 [==============================] - 2s 28us/step - loss: 5.6556e-05 - acc: 1.0000\n",
      "Epoch 53/100\n",
      "60000/60000 [==============================] - 2s 28us/step - loss: 4.7294e-05 - acc: 1.0000\n",
      "Epoch 54/100\n",
      "60000/60000 [==============================] - 2s 27us/step - loss: 3.9718e-05 - acc: 1.0000\n",
      "Epoch 55/100\n",
      "60000/60000 [==============================] - 2s 27us/step - loss: 3.3650e-05 - acc: 1.0000\n",
      "Epoch 56/100\n",
      "60000/60000 [==============================] - 2s 28us/step - loss: 2.8353e-05 - acc: 1.0000\n",
      "Epoch 57/100\n",
      "60000/60000 [==============================] - 2s 29us/step - loss: 2.4218e-05 - acc: 1.0000\n",
      "Epoch 58/100\n",
      "60000/60000 [==============================] - 2s 28us/step - loss: 2.0299e-05 - acc: 1.0000\n",
      "Epoch 59/100\n",
      "60000/60000 [==============================] - 2s 28us/step - loss: 1.7042e-05 - acc: 1.0000\n",
      "Epoch 60/100\n",
      "60000/60000 [==============================] - 2s 28us/step - loss: 1.4525e-05 - acc: 1.0000\n",
      "Epoch 61/100\n",
      "60000/60000 [==============================] - 2s 27us/step - loss: 1.2422e-05 - acc: 1.0000\n",
      "Epoch 62/100\n",
      "60000/60000 [==============================] - 2s 28us/step - loss: 1.0522e-05 - acc: 1.0000\n",
      "Epoch 63/100\n",
      "60000/60000 [==============================] - 2s 27us/step - loss: 8.8136e-06 - acc: 1.0000\n",
      "Epoch 64/100\n",
      "60000/60000 [==============================] - 2s 28us/step - loss: 7.3640e-06 - acc: 1.0000\n",
      "Epoch 65/100\n",
      "60000/60000 [==============================] - 2s 28us/step - loss: 6.1681e-06 - acc: 1.0000\n",
      "Epoch 66/100\n",
      "60000/60000 [==============================] - 2s 28us/step - loss: 0.0184 - acc: 0.9951\n",
      "Epoch 67/100\n",
      "60000/60000 [==============================] - 2s 27us/step - loss: 0.0052 - acc: 0.9983\n",
      "Epoch 68/100\n",
      "60000/60000 [==============================] - 2s 28us/step - loss: 0.0014 - acc: 0.9995\n",
      "Epoch 69/100\n",
      "60000/60000 [==============================] - 2s 28us/step - loss: 1.8414e-04 - acc: 1.0000\n",
      "Epoch 70/100\n",
      "60000/60000 [==============================] - 2s 28us/step - loss: 6.5800e-05 - acc: 1.0000\n",
      "Epoch 71/100\n",
      "60000/60000 [==============================] - 2s 28us/step - loss: 4.6591e-05 - acc: 1.0000\n",
      "Epoch 72/100\n",
      "60000/60000 [==============================] - 2s 28us/step - loss: 3.7688e-05 - acc: 1.0000\n",
      "Epoch 73/100\n",
      "60000/60000 [==============================] - 2s 28us/step - loss: 3.1366e-05 - acc: 1.0000\n",
      "Epoch 74/100\n",
      "60000/60000 [==============================] - 2s 28us/step - loss: 2.6276e-05 - acc: 1.0000\n",
      "Epoch 75/100\n",
      "60000/60000 [==============================] - 2s 27us/step - loss: 2.2270e-05 - acc: 1.0000\n",
      "Epoch 76/100\n",
      "60000/60000 [==============================] - 2s 28us/step - loss: 1.8776e-05 - acc: 1.0000\n",
      "Epoch 77/100\n",
      "60000/60000 [==============================] - 2s 28us/step - loss: 1.6000e-05 - acc: 1.0000\n",
      "Epoch 78/100\n",
      "60000/60000 [==============================] - 2s 28us/step - loss: 1.3620e-05 - acc: 1.0000\n",
      "Epoch 79/100\n",
      "60000/60000 [==============================] - 2s 28us/step - loss: 1.1467e-05 - acc: 1.0000\n",
      "Epoch 80/100\n",
      "60000/60000 [==============================] - 2s 28us/step - loss: 9.7925e-06 - acc: 1.0000\n",
      "Epoch 81/100\n",
      "60000/60000 [==============================] - 2s 28us/step - loss: 8.2551e-06 - acc: 1.0000\n",
      "Epoch 82/100\n",
      "60000/60000 [==============================] - 2s 27us/step - loss: 6.9521e-06 - acc: 1.0000\n",
      "Epoch 83/100\n",
      "60000/60000 [==============================] - 2s 28us/step - loss: 5.9171e-06 - acc: 1.0000\n",
      "Epoch 84/100\n",
      "60000/60000 [==============================] - 2s 28us/step - loss: 5.0069e-06 - acc: 1.0000\n",
      "Epoch 85/100\n",
      "60000/60000 [==============================] - 2s 28us/step - loss: 4.3042e-06 - acc: 1.0000\n",
      "Epoch 86/100\n",
      "60000/60000 [==============================] - 2s 27us/step - loss: 3.5922e-06 - acc: 1.0000\n",
      "Epoch 87/100\n",
      "60000/60000 [==============================] - 2s 28us/step - loss: 3.0581e-06 - acc: 1.0000\n",
      "Epoch 88/100\n",
      "60000/60000 [==============================] - 2s 28us/step - loss: 2.6161e-06 - acc: 1.0000\n",
      "Epoch 89/100\n",
      "60000/60000 [==============================] - 2s 28us/step - loss: 2.2149e-06 - acc: 1.0000\n",
      "Epoch 90/100\n",
      "60000/60000 [==============================] - 2s 28us/step - loss: 1.8594e-06 - acc: 1.0000\n",
      "Epoch 91/100\n",
      "60000/60000 [==============================] - 2s 27us/step - loss: 1.5763e-06 - acc: 1.0000\n",
      "Epoch 92/100\n",
      "60000/60000 [==============================] - 2s 28us/step - loss: 1.3208e-06 - acc: 1.0000\n",
      "Epoch 93/100\n",
      "60000/60000 [==============================] - 2s 27us/step - loss: 1.1331e-06 - acc: 1.0000\n",
      "Epoch 94/100\n",
      "60000/60000 [==============================] - 2s 30us/step - loss: 9.7423e-07 - acc: 1.0000\n",
      "Epoch 95/100\n",
      "60000/60000 [==============================] - 2s 28us/step - loss: 0.0161 - acc: 0.9961\n",
      "Epoch 96/100\n",
      "60000/60000 [==============================] - 2s 27us/step - loss: 0.0051 - acc: 0.9983\n",
      "Epoch 97/100\n",
      "60000/60000 [==============================] - 2s 28us/step - loss: 0.0014 - acc: 0.9996\n",
      "Epoch 98/100\n",
      "60000/60000 [==============================] - 2s 28us/step - loss: 2.0583e-04 - acc: 1.0000\n",
      "Epoch 99/100\n",
      "60000/60000 [==============================] - 2s 28us/step - loss: 3.0406e-04 - acc: 0.9999\n",
      "Epoch 100/100\n",
      "60000/60000 [==============================] - 2s 28us/step - loss: 2.8097e-05 - acc: 1.0000\n"
     ]
    },
    {
     "data": {
      "text/plain": [
       "<keras.callbacks.History at 0x7f6bf003c0b8>"
      ]
     },
     "execution_count": 12,
     "metadata": {},
     "output_type": "execute_result"
    }
   ],
   "source": [
    "network.fit(train_images, train_labels, epochs=100, batch_size=128)"
   ]
  },
  {
   "cell_type": "code",
   "execution_count": null,
   "metadata": {},
   "outputs": [],
   "source": []
  }
 ],
 "metadata": {
  "kernelspec": {
   "display_name": "Python 3",
   "language": "python",
   "name": "python3"
  },
  "language_info": {
   "codemirror_mode": {
    "name": "ipython",
    "version": 3
   },
   "file_extension": ".py",
   "mimetype": "text/x-python",
   "name": "python",
   "nbconvert_exporter": "python",
   "pygments_lexer": "ipython3",
   "version": "3.6.5"
  }
 },
 "nbformat": 4,
 "nbformat_minor": 2
}
